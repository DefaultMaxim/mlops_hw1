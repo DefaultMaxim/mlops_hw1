{
 "cells": [
  {
   "cell_type": "code",
   "execution_count": 1,
   "metadata": {},
   "outputs": [
    {
     "name": "stdout",
     "output_type": "stream",
     "text": [
      "Numpy реализация: [-1.26491106 -0.63245553  0.          0.63245553  1.26491106]\n",
      "С++ реализация: [-1.26491106 -0.63245553  0.          0.63245553  1.26491106]\n",
      "Тест пройден! Реализация соответствует numpy.\n"
     ]
    }
   ],
   "source": [
    "import numpy as np\n",
    "import _vector_standardization\n",
    "\n",
    "def test_vector_standardization():\n",
    "    # Пример входного вектора\n",
    "    input_vector = [1.0, 2.0, 3.0, 4.0, 5.0]\n",
    "\n",
    "    # Результат стандартизации C++\n",
    "    result = _vector_standardization.standardize(input_vector)\n",
    "\n",
    "    # Результат стандартизации с помощью numpy\n",
    "    np_array = np.array(input_vector)\n",
    "    np_mean = np.mean(np_array)\n",
    "\n",
    "    np_std = np.std(np_array, ddof=1)  \n",
    "    expected = (np_array - np_mean) / np_std\n",
    "\n",
    "    # Проверяем, что каждый элемент примерно равен\n",
    "    print(f'Numpy реализация: {expected}')\n",
    "    print(f'С++ реализация: {np.round(result, 10)}')\n",
    "    assert np.allclose(result, expected, rtol=1e-7), f\"Результат {result} не соответствует ожиданию {expected}\"\n",
    "\n",
    "    print(\"Тест пройден! Реализация соответствует numpy.\")\n",
    "\n",
    "if __name__ == \"__main__\":\n",
    "    test_vector_standardization()\n"
   ]
  },
  {
   "cell_type": "code",
   "execution_count": null,
   "metadata": {},
   "outputs": [],
   "source": []
  }
 ],
 "metadata": {
  "kernelspec": {
   "display_name": "Python 3 (ipykernel)",
   "language": "python",
   "name": "python3"
  },
  "language_info": {
   "codemirror_mode": {
    "name": "ipython",
    "version": 3
   },
   "file_extension": ".py",
   "mimetype": "text/x-python",
   "name": "python",
   "nbconvert_exporter": "python",
   "pygments_lexer": "ipython3",
   "version": "3.12.0"
  }
 },
 "nbformat": 4,
 "nbformat_minor": 4
}
